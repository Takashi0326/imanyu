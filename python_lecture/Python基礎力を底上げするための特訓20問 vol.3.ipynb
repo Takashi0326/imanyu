{
 "cells": [
  {
   "cell_type": "code",
   "execution_count": 45,
   "metadata": {},
   "outputs": [],
   "source": [
    "class Person:\n",
    "    __nationality = 'Japan'\n",
    "    \n",
    "    def __init__(self, name):\n",
    "        self.name = name\n",
    "    \n",
    "    def say_hello(self):\n",
    "        print(f'こんにちは、私の国籍は、{self.__nationality}です。')\n",
    "    \n",
    "    def __say_my_name(self):\n",
    "        print(f'私の名前は{self.name}です。')\n",
    "    "
   ]
  },
  {
   "cell_type": "code",
   "execution_count": 46,
   "metadata": {},
   "outputs": [],
   "source": [
    "imanishi = Person('今西')"
   ]
  },
  {
   "cell_type": "code",
   "execution_count": 47,
   "metadata": {},
   "outputs": [
    {
     "data": {
      "text/plain": [
       "'今西'"
      ]
     },
     "execution_count": 47,
     "metadata": {},
     "output_type": "execute_result"
    }
   ],
   "source": [
    "imanishi.name"
   ]
  },
  {
   "cell_type": "code",
   "execution_count": 48,
   "metadata": {},
   "outputs": [
    {
     "ename": "AttributeError",
     "evalue": "'Person' object has no attribute '__nationality'",
     "output_type": "error",
     "traceback": [
      "\u001b[1;31m---------------------------------------------------------------------------\u001b[0m",
      "\u001b[1;31mAttributeError\u001b[0m                            Traceback (most recent call last)",
      "\u001b[1;32m<ipython-input-48-5326c057ff24>\u001b[0m in \u001b[0;36m<module>\u001b[1;34m\u001b[0m\n\u001b[1;32m----> 1\u001b[1;33m \u001b[0mimanishi\u001b[0m\u001b[1;33m.\u001b[0m\u001b[0m__nationality\u001b[0m\u001b[1;33m\u001b[0m\u001b[1;33m\u001b[0m\u001b[0m\n\u001b[0m",
      "\u001b[1;31mAttributeError\u001b[0m: 'Person' object has no attribute '__nationality'"
     ]
    }
   ],
   "source": [
    "imanishi.__nationality"
   ]
  },
  {
   "cell_type": "code",
   "execution_count": 49,
   "metadata": {},
   "outputs": [
    {
     "ename": "AttributeError",
     "evalue": "'Person' object has no attribute '__say_my_name'",
     "output_type": "error",
     "traceback": [
      "\u001b[1;31m---------------------------------------------------------------------------\u001b[0m",
      "\u001b[1;31mAttributeError\u001b[0m                            Traceback (most recent call last)",
      "\u001b[1;32m<ipython-input-49-644bc46f0271>\u001b[0m in \u001b[0;36m<module>\u001b[1;34m\u001b[0m\n\u001b[1;32m----> 1\u001b[1;33m \u001b[0mimanishi\u001b[0m\u001b[1;33m.\u001b[0m\u001b[0m__say_my_name\u001b[0m\u001b[1;33m(\u001b[0m\u001b[1;33m)\u001b[0m\u001b[1;33m\u001b[0m\u001b[1;33m\u001b[0m\u001b[0m\n\u001b[0m",
      "\u001b[1;31mAttributeError\u001b[0m: 'Person' object has no attribute '__say_my_name'"
     ]
    }
   ],
   "source": [
    "imanishi.__say_my_name()"
   ]
  },
  {
   "cell_type": "code",
   "execution_count": 50,
   "metadata": {},
   "outputs": [
    {
     "name": "stdout",
     "output_type": "stream",
     "text": [
      "こんにちは、私の国籍は、Japanです。\n"
     ]
    }
   ],
   "source": [
    "imanishi.say_hello()"
   ]
  },
  {
   "cell_type": "code",
   "execution_count": 52,
   "metadata": {},
   "outputs": [],
   "source": [
    "import os"
   ]
  },
  {
   "cell_type": "code",
   "execution_count": 53,
   "metadata": {},
   "outputs": [
    {
     "data": {
      "text/plain": [
       "1"
      ]
     },
     "execution_count": 53,
     "metadata": {},
     "output_type": "execute_result"
    }
   ],
   "source": [
    "os.system('ls -a')"
   ]
  },
  {
   "cell_type": "code",
   "execution_count": 54,
   "metadata": {},
   "outputs": [
    {
     "name": "stdout",
     "output_type": "stream",
     "text": [
      "\n"
     ]
    }
   ],
   "source": [
    "print(os.popen('ls -a').read())"
   ]
  },
  {
   "cell_type": "code",
   "execution_count": 56,
   "metadata": {},
   "outputs": [
    {
     "name": "stderr",
     "output_type": "stream",
     "text": [
      "'ls' は、内部コマンドまたは外部コマンド、\n",
      "操作可能なプログラムまたはバッチ ファイルとして認識されていません。\n"
     ]
    }
   ],
   "source": [
    "!ls -a"
   ]
  },
  {
   "cell_type": "code",
   "execution_count": 41,
   "metadata": {},
   "outputs": [
    {
     "name": "stdout",
     "output_type": "stream",
     "text": [
      "[WinError 2] 指定されたファイルが見つかりません。: 'pyworks'\n",
      "C:\\Users\\takas\\pyworks\n"
     ]
    }
   ],
   "source": [
    "cd pyworks"
   ]
  },
  {
   "cell_type": "code",
   "execution_count": 42,
   "metadata": {},
   "outputs": [],
   "source": [
    "file = open('sample.txt', encoding ='UTF-8')\n",
    "text = file.read()\n",
    "file.close()"
   ]
  },
  {
   "cell_type": "code",
   "execution_count": 43,
   "metadata": {},
   "outputs": [
    {
     "name": "stdout",
     "output_type": "stream",
     "text": [
      "はじめまして、\n",
      "こちらはいまにゅチャンネルです。\n",
      "Pythonをつかいこなしていろんなことができるように、\n",
      "一緒に学んでいきましょう。\n"
     ]
    }
   ],
   "source": [
    "print(text)"
   ]
  },
  {
   "cell_type": "code",
   "execution_count": 44,
   "metadata": {},
   "outputs": [],
   "source": [
    "with open('sample.txt', 'r', encoding ='UTF-8') as f:\n",
    "    text = f.read()"
   ]
  },
  {
   "cell_type": "code",
   "execution_count": 45,
   "metadata": {},
   "outputs": [
    {
     "name": "stdout",
     "output_type": "stream",
     "text": [
      "はじめまして、\n",
      "こちらはいまにゅチャンネルです。\n",
      "Pythonをつかいこなしていろんなことができるように、\n",
      "一緒に学んでいきましょう。\n"
     ]
    }
   ],
   "source": [
    "print(text)"
   ]
  },
  {
   "cell_type": "code",
   "execution_count": 55,
   "metadata": {},
   "outputs": [],
   "source": [
    "import json"
   ]
  },
  {
   "cell_type": "code",
   "execution_count": 56,
   "metadata": {},
   "outputs": [],
   "source": [
    "with open('sample.json', 'r', encoding = 'UTF-8') as f:\n",
    "    data = json.load(f)\n",
    "#withの引数の中は順番大事"
   ]
  },
  {
   "cell_type": "code",
   "execution_count": 57,
   "metadata": {},
   "outputs": [
    {
     "data": {
      "text/plain": [
       "{'store_name': '神田店',\n",
       " 'items': [{'item_id': 0, 'item_name': 'コーラ'},\n",
       "  {'item_id': 1, 'item_name': '唐揚げ弁当'},\n",
       "  {'item_id': 2, 'item_name': '週刊誌'}]}"
      ]
     },
     "execution_count": 57,
     "metadata": {},
     "output_type": "execute_result"
    }
   ],
   "source": [
    "data"
   ]
  },
  {
   "cell_type": "code",
   "execution_count": 58,
   "metadata": {},
   "outputs": [
    {
     "data": {
      "text/plain": [
       "'神田店'"
      ]
     },
     "execution_count": 58,
     "metadata": {},
     "output_type": "execute_result"
    }
   ],
   "source": [
    "data['store_name']"
   ]
  },
  {
   "cell_type": "code",
   "execution_count": 59,
   "metadata": {},
   "outputs": [],
   "source": [
    "import os"
   ]
  },
  {
   "cell_type": "code",
   "execution_count": 66,
   "metadata": {},
   "outputs": [
    {
     "name": "stdout",
     "output_type": "stream",
     "text": [
      "./fibonacci.ipynb\n",
      "./keras練習.ipynb\n",
      "./sample.json\n",
      "./sample.txt\n",
      "./Untitled.ipynb\n",
      "./XGboost.ipynb\n",
      "./XGboostで回帰.ipynb\n",
      "./ベイズ更新の練習.ipynb\n",
      ".\\.ipynb_checkpoints/fibonacci-checkpoint.ipynb\n",
      ".\\.ipynb_checkpoints/keras練習-checkpoint.ipynb\n",
      ".\\.ipynb_checkpoints/Untitled-checkpoint.ipynb\n",
      ".\\.ipynb_checkpoints/XGboost-checkpoint.ipynb\n",
      ".\\.ipynb_checkpoints/XGboostで回帰-checkpoint.ipynb\n",
      ".\\.ipynb_checkpoints/ベイズ更新の練習-checkpoint.ipynb\n",
      ".\\kerasstudy/data_type.ipynb\n",
      ".\\kerasstudy/FashionMNIST_3layer.ipynb\n",
      ".\\kerasstudy/MNIST_3layer.ipynb\n",
      ".\\kerasstudy/MNIST_3layer_t.ipynb\n",
      ".\\kerasstudy/●Udemy_kaggleで学ぼう pythonとkerasで学ぶディープラーニング.txt\n",
      ".\\kerasstudy\\.ipynb_checkpoints/MNIST_3d-checkpoint.ipynb\n",
      ".\\kerasstudy\\.ipynb_checkpoints/データ型-checkpoint.ipynb\n",
      ".\\Udemy_datascientist/python.ipynb\n",
      ".\\Udemy_datascientist/●_【データサイエンティスト育成講座】Python初心者も歓迎！機械学習を駆使してビジネス課題を解決するためのエッセンス.txt\n",
      ".\\Udemy_datascientist\\.ipynb_checkpoints/python-checkpoint.ipynb\n",
      ".\\Udemy_datascientist\\lesson2_蜈ｱ譛臥畑/.DS_Store\n",
      ".\\Udemy_datascientist\\lesson2_蜈ｱ譛臥畑/Pipfile\n",
      ".\\Udemy_datascientist\\lesson2_蜈ｱ譛臥畑/Pipfile.lock\n",
      ".\\Udemy_datascientist\\lesson2_蜈ｱ譛臥畑\\data/.DS_Store\n",
      ".\\Udemy_datascientist\\lesson2_蜈ｱ譛臥畑\\data/DJIA.csv\n",
      ".\\Udemy_datascientist\\lesson2_蜈ｱ譛臥畑\\data/weather_201301_201908_cleaned.csv\n",
      ".\\Udemy_datascientist\\lesson2_蜈ｱ譛臥畑\\data/Wholesale customers data.csv\n",
      ".\\Udemy_datascientist\\lesson2_蜈ｱ譛臥畑\\data\\adult/adult.data\n",
      ".\\Udemy_datascientist\\lesson2_蜈ｱ譛臥畑\\data\\adult/adult.names\n",
      ".\\Udemy_datascientist\\lesson2_蜈ｱ譛臥畑\\data\\adult/adult.test\n",
      ".\\Udemy_datascientist\\lesson2_蜈ｱ譛臥畑\\data\\OnlineNewsPopularity/OnlineNewsPopularity.csv\n",
      ".\\Udemy_datascientist\\lesson2_蜈ｱ譛臥畑\\data\\OnlineNewsPopularity/OnlineNewsPopularity.names\n",
      ".\\Udemy_datascientist\\lesson2_蜈ｱ譛臥畑\\docs/.DS_Store\n",
      ".\\Udemy_datascientist\\lesson2_蜈ｱ譛臥畑\\docs/section5_Web繧ｹ繧ｯ繝ｬ繧､繝偵ｚ繝ｳ繧ｯ繧・pptx\n",
      ".\\Udemy_datascientist\\lesson2_蜈ｱ譛臥畑\\docs/section6_Logistic蝗槫ｸｰ.pptx\n",
      ".\\Udemy_datascientist\\lesson2_蜈ｱ譛臥畑\\docs/section6_繧ｻ繧ｯ繧ｷ繝ｧ繝ｳ讎りｦ・pptx\n",
      ".\\Udemy_datascientist\\lesson2_蜈ｱ譛臥畑\\docs/section6_邱壼ｽ｢蝗槫ｸｰ.pptx\n",
      ".\\Udemy_datascientist\\lesson2_蜈ｱ譛臥畑\\docs/section7_RandomForest.pptx\n",
      ".\\Udemy_datascientist\\lesson2_蜈ｱ譛臥畑\\docs/section7_繧ｻ繧ｯ繧ｷ繝ｧ繝ｳ讎りｦ・pptx\n",
      ".\\Udemy_datascientist\\lesson2_蜈ｱ譛臥畑\\docs/section7_豎ｺ螳壽惠.pptx\n",
      ".\\Udemy_datascientist\\lesson2_蜈ｱ譛臥畑\\docs/section8_CrossValidation.pptx\n",
      ".\\Udemy_datascientist\\lesson2_蜈ｱ譛臥畑\\docs/section8_GBDT.pptx\n",
      ".\\Udemy_datascientist\\lesson2_蜈ｱ譛臥畑\\docs/section8_繧ｻ繧ｯ繧ｷ繝ｧ繝ｳ讎りｦ・pptx\n",
      ".\\Udemy_datascientist\\lesson2_蜈ｱ譛臥畑\\docs/section8_邊ｾ蠎ｦ讀懆ｨｼ.pptx\n",
      ".\\Udemy_datascientist\\lesson2_蜈ｱ譛臥畑\\docs/section9_Prophet.pptx\n",
      ".\\Udemy_datascientist\\lesson2_蜈ｱ譛臥畑\\notebooks/.DS_Store\n",
      ".\\Udemy_datascientist\\lesson2_蜈ｱ譛臥畑\\notebooks/news.svg\n",
      ".\\Udemy_datascientist\\lesson2_蜈ｱ譛臥畑\\notebooks/precision_recall.png\n",
      ".\\Udemy_datascientist\\lesson2_蜈ｱ譛臥畑\\notebooks/section2_python.ipynb\n",
      ".\\Udemy_datascientist\\lesson2_蜈ｱ譛臥畑\\notebooks/section2_python_邱ｴ鄙堤畑.ipynb\n",
      ".\\Udemy_datascientist\\lesson2_蜈ｱ譛臥畑\\notebooks/section3_pandas.ipynb\n",
      ".\\Udemy_datascientist\\lesson2_蜈ｱ譛臥畑\\notebooks/section3_pandas_邱ｴ鄙堤畑.ipynb\n",
      ".\\Udemy_datascientist\\lesson2_蜈ｱ譛臥畑\\notebooks/section4_numpy.ipynb\n",
      ".\\Udemy_datascientist\\lesson2_蜈ｱ譛臥畑\\notebooks/section4_numpy_邱ｴ鄙堤畑.ipynb\n",
      ".\\Udemy_datascientist\\lesson2_蜈ｱ譛臥畑\\notebooks/section5_web_scraping.ipynb\n",
      ".\\Udemy_datascientist\\lesson2_蜈ｱ譛臥畑\\notebooks/section5_web_scraping_邱ｴ鄙堤畑.ipynb\n",
      ".\\Udemy_datascientist\\lesson2_蜈ｱ譛臥畑\\notebooks/section6_weather_analysis.ipynb\n",
      ".\\Udemy_datascientist\\lesson2_蜈ｱ譛臥畑\\notebooks/section6_weather_analysis_邱ｴ鄙堤畑.ipynb\n",
      ".\\Udemy_datascientist\\lesson2_蜈ｱ譛臥畑\\notebooks/section7_DecisionTree_answer.ipynb\n",
      ".\\Udemy_datascientist\\lesson2_蜈ｱ譛臥畑\\notebooks/section7_DecisionTree_answer_邱ｴ鄙堤畑.ipynb\n",
      ".\\Udemy_datascientist\\lesson2_蜈ｱ譛臥畑\\notebooks/section7_online_news_popularity_analysis.ipynb\n",
      ".\\Udemy_datascientist\\lesson2_蜈ｱ譛臥畑\\notebooks/section7_online_news_popularity_analysis_邱ｴ鄙堤畑.ipynb\n",
      ".\\Udemy_datascientist\\lesson2_蜈ｱ譛臥畑\\notebooks/section8_census_prediction_.ipynb\n",
      ".\\Udemy_datascientist\\lesson2_蜈ｱ譛臥畑\\notebooks/section8_census_prediction_邱ｴ鄙堤畑.ipynb\n",
      ".\\Udemy_datascientist\\lesson2_蜈ｱ譛臥畑\\notebooks/section9_djia_analysis.ipynb\n",
      ".\\Udemy_datascientist\\lesson2_蜈ｱ譛臥畑\\notebooks/section9_djia_analysis_邱ｴ鄙堤畑.ipynb\n",
      ".\\Udemy_datascientist\\__MACOSX\\lesson2_蜈ｱ譛臥畑/._.DS_Store\n",
      ".\\Udemy_datascientist\\__MACOSX\\lesson2_蜈ｱ譛臥畑\\data/._.DS_Store\n",
      ".\\Udemy_datascientist\\__MACOSX\\lesson2_蜈ｱ譛臥畑\\data/._DJIA.csv\n",
      ".\\Udemy_datascientist\\__MACOSX\\lesson2_蜈ｱ譛臥畑\\data/._OnlineNewsPopularity\n",
      ".\\Udemy_datascientist\\__MACOSX\\lesson2_蜈ｱ譛臥畑\\data/._weather_201301_201908_cleaned.csv\n",
      ".\\Udemy_datascientist\\__MACOSX\\lesson2_蜈ｱ譛臥畑\\data/._Wholesale customers data.csv\n",
      ".\\Udemy_datascientist\\__MACOSX\\lesson2_蜈ｱ譛臥畑\\data\\adult/._adult.data\n",
      ".\\Udemy_datascientist\\__MACOSX\\lesson2_蜈ｱ譛臥畑\\data\\adult/._adult.names\n",
      ".\\Udemy_datascientist\\__MACOSX\\lesson2_蜈ｱ譛臥畑\\data\\adult/._adult.test\n",
      ".\\Udemy_datascientist\\__MACOSX\\lesson2_蜈ｱ譛臥畑\\data\\OnlineNewsPopularity/._OnlineNewsPopularity.csv\n",
      ".\\Udemy_datascientist\\__MACOSX\\lesson2_蜈ｱ譛臥畑\\data\\OnlineNewsPopularity/._OnlineNewsPopularity.names\n",
      ".\\Udemy_datascientist\\__MACOSX\\lesson2_蜈ｱ譛臥畑\\docs/._.DS_Store\n",
      ".\\Udemy_datascientist\\__MACOSX\\lesson2_蜈ｱ譛臥畑\\docs/._section5_Web繧ｹ繧ｯ繝ｬ繧､繝偵ｚ繝ｳ繧ｯ繧・pptx\n",
      ".\\Udemy_datascientist\\__MACOSX\\lesson2_蜈ｱ譛臥畑\\docs/._section6_Logistic蝗槫ｸｰ.pptx\n",
      ".\\Udemy_datascientist\\__MACOSX\\lesson2_蜈ｱ譛臥畑\\docs/._section6_繧ｻ繧ｯ繧ｷ繝ｧ繝ｳ讎りｦ・pptx\n",
      ".\\Udemy_datascientist\\__MACOSX\\lesson2_蜈ｱ譛臥畑\\docs/._section6_邱壼ｽ｢蝗槫ｸｰ.pptx\n",
      ".\\Udemy_datascientist\\__MACOSX\\lesson2_蜈ｱ譛臥畑\\docs/._section7_RandomForest.pptx\n",
      ".\\Udemy_datascientist\\__MACOSX\\lesson2_蜈ｱ譛臥畑\\docs/._section7_繧ｻ繧ｯ繧ｷ繝ｧ繝ｳ讎りｦ・pptx\n",
      ".\\Udemy_datascientist\\__MACOSX\\lesson2_蜈ｱ譛臥畑\\docs/._section7_豎ｺ螳壽惠.pptx\n",
      ".\\Udemy_datascientist\\__MACOSX\\lesson2_蜈ｱ譛臥畑\\docs/._section8_CrossValidation.pptx\n",
      ".\\Udemy_datascientist\\__MACOSX\\lesson2_蜈ｱ譛臥畑\\docs/._section8_GBDT.pptx\n",
      ".\\Udemy_datascientist\\__MACOSX\\lesson2_蜈ｱ譛臥畑\\docs/._section8_繧ｻ繧ｯ繧ｷ繝ｧ繝ｳ讎りｦ・pptx\n",
      ".\\Udemy_datascientist\\__MACOSX\\lesson2_蜈ｱ譛臥畑\\docs/._section8_邊ｾ蠎ｦ讀懆ｨｼ.pptx\n",
      ".\\Udemy_datascientist\\__MACOSX\\lesson2_蜈ｱ譛臥畑\\docs/._section9_Prophet.pptx\n",
      ".\\Udemy_datascientist\\__MACOSX\\lesson2_蜈ｱ譛臥畑\\notebooks/._.DS_Store\n",
      ".\\Udemy_datascientist\\__MACOSX\\lesson2_蜈ｱ譛臥畑\\notebooks/._news.svg\n",
      ".\\Udemy_datascientist\\__MACOSX\\lesson2_蜈ｱ譛臥畑\\notebooks/._precision_recall.png\n",
      ".\\Udemy_datascientist\\__MACOSX\\lesson2_蜈ｱ譛臥畑\\notebooks/._section2_python.ipynb\n",
      ".\\Udemy_datascientist\\__MACOSX\\lesson2_蜈ｱ譛臥畑\\notebooks/._section3_pandas.ipynb\n",
      ".\\Udemy_datascientist\\__MACOSX\\lesson2_蜈ｱ譛臥畑\\notebooks/._section4_numpy.ipynb\n",
      ".\\Udemy_datascientist\\__MACOSX\\lesson2_蜈ｱ譛臥畑\\notebooks/._section5_web_scraping.ipynb\n",
      ".\\Udemy_datascientist\\__MACOSX\\lesson2_蜈ｱ譛臥畑\\notebooks/._section6_weather_analysis.ipynb\n",
      ".\\Udemy_datascientist\\__MACOSX\\lesson2_蜈ｱ譛臥畑\\notebooks/._section6_weather_analysis_邱ｴ鄙堤畑.ipynb\n",
      ".\\Udemy_datascientist\\__MACOSX\\lesson2_蜈ｱ譛臥畑\\notebooks/._section8_census_prediction_邱ｴ鄙堤畑.ipynb\n",
      ".\\Udemy_datascientist\\__MACOSX\\lesson2_蜈ｱ譛臥畑\\notebooks/._section9_djia_analysis.ipynb\n"
     ]
    }
   ],
   "source": [
    "for curDir, dirs, files in os.walk('.'):\n",
    "    for file in files:\n",
    "        print(f'{curDir}/{file}')"
   ]
  },
  {
   "cell_type": "code",
   "execution_count": 70,
   "metadata": {},
   "outputs": [
    {
     "data": {
      "text/plain": [
       "['.ipynb_checkpoints',\n",
       " 'Udemy_datascientist',\n",
       " 'Untitled.ipynb',\n",
       " 'XGboost.ipynb',\n",
       " 'XGboostで回帰.ipynb',\n",
       " 'fibonacci.ipynb',\n",
       " 'kerasstudy',\n",
       " 'keras練習.ipynb',\n",
       " 'sample.json',\n",
       " 'sample.txt',\n",
       " 'ベイズ更新の練習.ipynb']"
      ]
     },
     "execution_count": 70,
     "metadata": {},
     "output_type": "execute_result"
    }
   ],
   "source": [
    "lists = os.listdir('.')\n",
    "lists.sort()\n",
    "lists"
   ]
  },
  {
   "cell_type": "code",
   "execution_count": 71,
   "metadata": {},
   "outputs": [
    {
     "data": {
      "text/plain": [
       "'C:\\\\Users\\\\takas\\\\pyworks\\\\Untitled.ipynb'"
      ]
     },
     "execution_count": 71,
     "metadata": {},
     "output_type": "execute_result"
    }
   ],
   "source": [
    "os.path.abspath('Untitled.ipynb')"
   ]
  },
  {
   "cell_type": "code",
   "execution_count": 72,
   "metadata": {},
   "outputs": [
    {
     "data": {
      "text/plain": [
       "'Untitled.ipynb'"
      ]
     },
     "execution_count": 72,
     "metadata": {},
     "output_type": "execute_result"
    }
   ],
   "source": [
    "os.path.basename('Untitled.ipynb')"
   ]
  },
  {
   "cell_type": "code",
   "execution_count": 74,
   "metadata": {},
   "outputs": [
    {
     "name": "stdout",
     "output_type": "stream",
     "text": [
      "C:\\Users\\takas\\pyworks\n"
     ]
    }
   ],
   "source": [
    "cd pyworks"
   ]
  },
  {
   "cell_type": "code",
   "execution_count": 77,
   "metadata": {},
   "outputs": [
    {
     "data": {
      "text/plain": [
       "True"
      ]
     },
     "execution_count": 77,
     "metadata": {},
     "output_type": "execute_result"
    }
   ],
   "source": [
    "os.path.exists('Untitled.ipynb')"
   ]
  },
  {
   "cell_type": "code",
   "execution_count": 79,
   "metadata": {},
   "outputs": [
    {
     "data": {
      "text/plain": [
       "True"
      ]
     },
     "execution_count": 79,
     "metadata": {},
     "output_type": "execute_result"
    }
   ],
   "source": [
    "os.path.isdir('Udemy_datascientist')"
   ]
  },
  {
   "cell_type": "code",
   "execution_count": 80,
   "metadata": {},
   "outputs": [
    {
     "data": {
      "text/plain": [
       "True"
      ]
     },
     "execution_count": 80,
     "metadata": {},
     "output_type": "execute_result"
    }
   ],
   "source": [
    "os.path.isfile('Untitled.ipynb')"
   ]
  },
  {
   "cell_type": "code",
   "execution_count": 81,
   "metadata": {},
   "outputs": [
    {
     "name": "stdout",
     "output_type": "stream",
     "text": [
      ".\\fibonacci.ipynb\n",
      ".\\keras練習.ipynb\n",
      ".\\sample.json\n",
      ".\\sample.txt\n",
      ".\\Untitled.ipynb\n",
      ".\\XGboost.ipynb\n",
      ".\\XGboostで回帰.ipynb\n",
      ".\\ベイズ更新の練習.ipynb\n",
      ".\\.ipynb_checkpoints\\fibonacci-checkpoint.ipynb\n",
      ".\\.ipynb_checkpoints\\keras練習-checkpoint.ipynb\n",
      ".\\.ipynb_checkpoints\\Untitled-checkpoint.ipynb\n",
      ".\\.ipynb_checkpoints\\XGboost-checkpoint.ipynb\n",
      ".\\.ipynb_checkpoints\\XGboostで回帰-checkpoint.ipynb\n",
      ".\\.ipynb_checkpoints\\ベイズ更新の練習-checkpoint.ipynb\n",
      ".\\kerasstudy\\data_type.ipynb\n",
      ".\\kerasstudy\\FashionMNIST_3layer.ipynb\n",
      ".\\kerasstudy\\MNIST_3layer.ipynb\n",
      ".\\kerasstudy\\MNIST_3layer_t.ipynb\n",
      ".\\kerasstudy\\●Udemy_kaggleで学ぼう pythonとkerasで学ぶディープラーニング.txt\n",
      ".\\kerasstudy\\.ipynb_checkpoints\\MNIST_3d-checkpoint.ipynb\n",
      ".\\kerasstudy\\.ipynb_checkpoints\\データ型-checkpoint.ipynb\n",
      ".\\Udemy_datascientist\\python.ipynb\n",
      ".\\Udemy_datascientist\\●_【データサイエンティスト育成講座】Python初心者も歓迎！機械学習を駆使してビジネス課題を解決するためのエッセンス.txt\n",
      ".\\Udemy_datascientist\\.ipynb_checkpoints\\python-checkpoint.ipynb\n",
      ".\\Udemy_datascientist\\lesson2_蜈ｱ譛臥畑\\.DS_Store\n",
      ".\\Udemy_datascientist\\lesson2_蜈ｱ譛臥畑\\Pipfile\n",
      ".\\Udemy_datascientist\\lesson2_蜈ｱ譛臥畑\\Pipfile.lock\n",
      ".\\Udemy_datascientist\\lesson2_蜈ｱ譛臥畑\\data\\.DS_Store\n",
      ".\\Udemy_datascientist\\lesson2_蜈ｱ譛臥畑\\data\\DJIA.csv\n",
      ".\\Udemy_datascientist\\lesson2_蜈ｱ譛臥畑\\data\\weather_201301_201908_cleaned.csv\n",
      ".\\Udemy_datascientist\\lesson2_蜈ｱ譛臥畑\\data\\Wholesale customers data.csv\n",
      ".\\Udemy_datascientist\\lesson2_蜈ｱ譛臥畑\\data\\adult\\adult.data\n",
      ".\\Udemy_datascientist\\lesson2_蜈ｱ譛臥畑\\data\\adult\\adult.names\n",
      ".\\Udemy_datascientist\\lesson2_蜈ｱ譛臥畑\\data\\adult\\adult.test\n",
      ".\\Udemy_datascientist\\lesson2_蜈ｱ譛臥畑\\data\\OnlineNewsPopularity\\OnlineNewsPopularity.csv\n",
      ".\\Udemy_datascientist\\lesson2_蜈ｱ譛臥畑\\data\\OnlineNewsPopularity\\OnlineNewsPopularity.names\n",
      ".\\Udemy_datascientist\\lesson2_蜈ｱ譛臥畑\\docs\\.DS_Store\n",
      ".\\Udemy_datascientist\\lesson2_蜈ｱ譛臥畑\\docs\\section5_Web繧ｹ繧ｯ繝ｬ繧､繝偵ｚ繝ｳ繧ｯ繧・pptx\n",
      ".\\Udemy_datascientist\\lesson2_蜈ｱ譛臥畑\\docs\\section6_Logistic蝗槫ｸｰ.pptx\n",
      ".\\Udemy_datascientist\\lesson2_蜈ｱ譛臥畑\\docs\\section6_繧ｻ繧ｯ繧ｷ繝ｧ繝ｳ讎りｦ・pptx\n",
      ".\\Udemy_datascientist\\lesson2_蜈ｱ譛臥畑\\docs\\section6_邱壼ｽ｢蝗槫ｸｰ.pptx\n",
      ".\\Udemy_datascientist\\lesson2_蜈ｱ譛臥畑\\docs\\section7_RandomForest.pptx\n",
      ".\\Udemy_datascientist\\lesson2_蜈ｱ譛臥畑\\docs\\section7_繧ｻ繧ｯ繧ｷ繝ｧ繝ｳ讎りｦ・pptx\n",
      ".\\Udemy_datascientist\\lesson2_蜈ｱ譛臥畑\\docs\\section7_豎ｺ螳壽惠.pptx\n",
      ".\\Udemy_datascientist\\lesson2_蜈ｱ譛臥畑\\docs\\section8_CrossValidation.pptx\n",
      ".\\Udemy_datascientist\\lesson2_蜈ｱ譛臥畑\\docs\\section8_GBDT.pptx\n",
      ".\\Udemy_datascientist\\lesson2_蜈ｱ譛臥畑\\docs\\section8_繧ｻ繧ｯ繧ｷ繝ｧ繝ｳ讎りｦ・pptx\n",
      ".\\Udemy_datascientist\\lesson2_蜈ｱ譛臥畑\\docs\\section8_邊ｾ蠎ｦ讀懆ｨｼ.pptx\n",
      ".\\Udemy_datascientist\\lesson2_蜈ｱ譛臥畑\\docs\\section9_Prophet.pptx\n",
      ".\\Udemy_datascientist\\lesson2_蜈ｱ譛臥畑\\notebooks\\.DS_Store\n",
      ".\\Udemy_datascientist\\lesson2_蜈ｱ譛臥畑\\notebooks\\news.svg\n",
      ".\\Udemy_datascientist\\lesson2_蜈ｱ譛臥畑\\notebooks\\precision_recall.png\n",
      ".\\Udemy_datascientist\\lesson2_蜈ｱ譛臥畑\\notebooks\\section2_python.ipynb\n",
      ".\\Udemy_datascientist\\lesson2_蜈ｱ譛臥畑\\notebooks\\section2_python_邱ｴ鄙堤畑.ipynb\n",
      ".\\Udemy_datascientist\\lesson2_蜈ｱ譛臥畑\\notebooks\\section3_pandas.ipynb\n",
      ".\\Udemy_datascientist\\lesson2_蜈ｱ譛臥畑\\notebooks\\section3_pandas_邱ｴ鄙堤畑.ipynb\n",
      ".\\Udemy_datascientist\\lesson2_蜈ｱ譛臥畑\\notebooks\\section4_numpy.ipynb\n",
      ".\\Udemy_datascientist\\lesson2_蜈ｱ譛臥畑\\notebooks\\section4_numpy_邱ｴ鄙堤畑.ipynb\n",
      ".\\Udemy_datascientist\\lesson2_蜈ｱ譛臥畑\\notebooks\\section5_web_scraping.ipynb\n",
      ".\\Udemy_datascientist\\lesson2_蜈ｱ譛臥畑\\notebooks\\section5_web_scraping_邱ｴ鄙堤畑.ipynb\n",
      ".\\Udemy_datascientist\\lesson2_蜈ｱ譛臥畑\\notebooks\\section6_weather_analysis.ipynb\n",
      ".\\Udemy_datascientist\\lesson2_蜈ｱ譛臥畑\\notebooks\\section6_weather_analysis_邱ｴ鄙堤畑.ipynb\n",
      ".\\Udemy_datascientist\\lesson2_蜈ｱ譛臥畑\\notebooks\\section7_DecisionTree_answer.ipynb\n",
      ".\\Udemy_datascientist\\lesson2_蜈ｱ譛臥畑\\notebooks\\section7_DecisionTree_answer_邱ｴ鄙堤畑.ipynb\n",
      ".\\Udemy_datascientist\\lesson2_蜈ｱ譛臥畑\\notebooks\\section7_online_news_popularity_analysis.ipynb\n",
      ".\\Udemy_datascientist\\lesson2_蜈ｱ譛臥畑\\notebooks\\section7_online_news_popularity_analysis_邱ｴ鄙堤畑.ipynb\n",
      ".\\Udemy_datascientist\\lesson2_蜈ｱ譛臥畑\\notebooks\\section8_census_prediction_.ipynb\n",
      ".\\Udemy_datascientist\\lesson2_蜈ｱ譛臥畑\\notebooks\\section8_census_prediction_邱ｴ鄙堤畑.ipynb\n",
      ".\\Udemy_datascientist\\lesson2_蜈ｱ譛臥畑\\notebooks\\section9_djia_analysis.ipynb\n",
      ".\\Udemy_datascientist\\lesson2_蜈ｱ譛臥畑\\notebooks\\section9_djia_analysis_邱ｴ鄙堤畑.ipynb\n",
      ".\\Udemy_datascientist\\__MACOSX\\lesson2_蜈ｱ譛臥畑\\._.DS_Store\n",
      ".\\Udemy_datascientist\\__MACOSX\\lesson2_蜈ｱ譛臥畑\\data\\._.DS_Store\n",
      ".\\Udemy_datascientist\\__MACOSX\\lesson2_蜈ｱ譛臥畑\\data\\._DJIA.csv\n",
      ".\\Udemy_datascientist\\__MACOSX\\lesson2_蜈ｱ譛臥畑\\data\\._OnlineNewsPopularity\n",
      ".\\Udemy_datascientist\\__MACOSX\\lesson2_蜈ｱ譛臥畑\\data\\._weather_201301_201908_cleaned.csv\n",
      ".\\Udemy_datascientist\\__MACOSX\\lesson2_蜈ｱ譛臥畑\\data\\._Wholesale customers data.csv\n",
      ".\\Udemy_datascientist\\__MACOSX\\lesson2_蜈ｱ譛臥畑\\data\\adult\\._adult.data\n",
      ".\\Udemy_datascientist\\__MACOSX\\lesson2_蜈ｱ譛臥畑\\data\\adult\\._adult.names\n",
      ".\\Udemy_datascientist\\__MACOSX\\lesson2_蜈ｱ譛臥畑\\data\\adult\\._adult.test\n",
      ".\\Udemy_datascientist\\__MACOSX\\lesson2_蜈ｱ譛臥畑\\data\\OnlineNewsPopularity\\._OnlineNewsPopularity.csv\n",
      ".\\Udemy_datascientist\\__MACOSX\\lesson2_蜈ｱ譛臥畑\\data\\OnlineNewsPopularity\\._OnlineNewsPopularity.names\n",
      ".\\Udemy_datascientist\\__MACOSX\\lesson2_蜈ｱ譛臥畑\\docs\\._.DS_Store\n",
      ".\\Udemy_datascientist\\__MACOSX\\lesson2_蜈ｱ譛臥畑\\docs\\._section5_Web繧ｹ繧ｯ繝ｬ繧､繝偵ｚ繝ｳ繧ｯ繧・pptx\n",
      ".\\Udemy_datascientist\\__MACOSX\\lesson2_蜈ｱ譛臥畑\\docs\\._section6_Logistic蝗槫ｸｰ.pptx\n",
      ".\\Udemy_datascientist\\__MACOSX\\lesson2_蜈ｱ譛臥畑\\docs\\._section6_繧ｻ繧ｯ繧ｷ繝ｧ繝ｳ讎りｦ・pptx\n",
      ".\\Udemy_datascientist\\__MACOSX\\lesson2_蜈ｱ譛臥畑\\docs\\._section6_邱壼ｽ｢蝗槫ｸｰ.pptx\n",
      ".\\Udemy_datascientist\\__MACOSX\\lesson2_蜈ｱ譛臥畑\\docs\\._section7_RandomForest.pptx\n",
      ".\\Udemy_datascientist\\__MACOSX\\lesson2_蜈ｱ譛臥畑\\docs\\._section7_繧ｻ繧ｯ繧ｷ繝ｧ繝ｳ讎りｦ・pptx\n",
      ".\\Udemy_datascientist\\__MACOSX\\lesson2_蜈ｱ譛臥畑\\docs\\._section7_豎ｺ螳壽惠.pptx\n",
      ".\\Udemy_datascientist\\__MACOSX\\lesson2_蜈ｱ譛臥畑\\docs\\._section8_CrossValidation.pptx\n",
      ".\\Udemy_datascientist\\__MACOSX\\lesson2_蜈ｱ譛臥畑\\docs\\._section8_GBDT.pptx\n",
      ".\\Udemy_datascientist\\__MACOSX\\lesson2_蜈ｱ譛臥畑\\docs\\._section8_繧ｻ繧ｯ繧ｷ繝ｧ繝ｳ讎りｦ・pptx\n",
      ".\\Udemy_datascientist\\__MACOSX\\lesson2_蜈ｱ譛臥畑\\docs\\._section8_邊ｾ蠎ｦ讀懆ｨｼ.pptx\n",
      ".\\Udemy_datascientist\\__MACOSX\\lesson2_蜈ｱ譛臥畑\\docs\\._section9_Prophet.pptx\n",
      ".\\Udemy_datascientist\\__MACOSX\\lesson2_蜈ｱ譛臥畑\\notebooks\\._.DS_Store\n",
      ".\\Udemy_datascientist\\__MACOSX\\lesson2_蜈ｱ譛臥畑\\notebooks\\._news.svg\n",
      ".\\Udemy_datascientist\\__MACOSX\\lesson2_蜈ｱ譛臥畑\\notebooks\\._precision_recall.png\n",
      ".\\Udemy_datascientist\\__MACOSX\\lesson2_蜈ｱ譛臥畑\\notebooks\\._section2_python.ipynb\n",
      ".\\Udemy_datascientist\\__MACOSX\\lesson2_蜈ｱ譛臥畑\\notebooks\\._section3_pandas.ipynb\n",
      ".\\Udemy_datascientist\\__MACOSX\\lesson2_蜈ｱ譛臥畑\\notebooks\\._section4_numpy.ipynb\n",
      ".\\Udemy_datascientist\\__MACOSX\\lesson2_蜈ｱ譛臥畑\\notebooks\\._section5_web_scraping.ipynb\n",
      ".\\Udemy_datascientist\\__MACOSX\\lesson2_蜈ｱ譛臥畑\\notebooks\\._section6_weather_analysis.ipynb\n",
      ".\\Udemy_datascientist\\__MACOSX\\lesson2_蜈ｱ譛臥畑\\notebooks\\._section6_weather_analysis_邱ｴ鄙堤畑.ipynb\n",
      ".\\Udemy_datascientist\\__MACOSX\\lesson2_蜈ｱ譛臥畑\\notebooks\\._section8_census_prediction_邱ｴ鄙堤畑.ipynb\n",
      ".\\Udemy_datascientist\\__MACOSX\\lesson2_蜈ｱ譛臥畑\\notebooks\\._section9_djia_analysis.ipynb\n"
     ]
    }
   ],
   "source": [
    "for curDir, dirs, files in os.walk('.'):\n",
    "    for file in files:\n",
    "        print(os.path.join(curDir, file))"
   ]
  },
  {
   "cell_type": "code",
   "execution_count": 82,
   "metadata": {},
   "outputs": [],
   "source": [
    "os.mkdir('imanyu')"
   ]
  },
  {
   "cell_type": "code",
   "execution_count": 83,
   "metadata": {},
   "outputs": [
    {
     "ename": "PermissionError",
     "evalue": "[WinError 5] アクセスが拒否されました。: 'imanyu'",
     "output_type": "error",
     "traceback": [
      "\u001b[1;31m---------------------------------------------------------------------------\u001b[0m",
      "\u001b[1;31mPermissionError\u001b[0m                           Traceback (most recent call last)",
      "\u001b[1;32m<ipython-input-83-752423ca1f3c>\u001b[0m in \u001b[0;36m<module>\u001b[1;34m\u001b[0m\n\u001b[1;32m----> 1\u001b[1;33m \u001b[0mos\u001b[0m\u001b[1;33m.\u001b[0m\u001b[0mremove\u001b[0m\u001b[1;33m(\u001b[0m\u001b[1;34m'imanyu'\u001b[0m\u001b[1;33m)\u001b[0m\u001b[1;33m\u001b[0m\u001b[1;33m\u001b[0m\u001b[0m\n\u001b[0m",
      "\u001b[1;31mPermissionError\u001b[0m: [WinError 5] アクセスが拒否されました。: 'imanyu'"
     ]
    }
   ],
   "source": [
    "os.remove('消したいファイル名.txt')"
   ]
  },
  {
   "cell_type": "code",
   "execution_count": 84,
   "metadata": {},
   "outputs": [],
   "source": [
    "os.rename('imanyu', 'kobe')"
   ]
  },
  {
   "cell_type": "code",
   "execution_count": 85,
   "metadata": {},
   "outputs": [
    {
     "data": {
      "text/plain": [
       "'C:\\\\Windows\\\\system32;C:\\\\Windows;C:\\\\Windows\\\\System32\\\\Wbem;C:\\\\Windows\\\\System32\\\\WindowsPowerShell\\\\v1.0\\\\;C:\\\\Windows\\\\System32\\\\OpenSSH\\\\;C:\\\\Program Files (x86)\\\\NVIDIA Corporation\\\\PhysX\\\\Common;C:\\\\Program Files\\\\NVIDIA Corporation\\\\NVIDIA NvDLISR;C:\\\\Program Files\\\\MATLAB\\\\R2020a\\\\bin;%SystemRoot%\\\\system32;%SystemRoot%;%SystemRoot%\\\\System32\\\\Wbem;%SYSTEMROOT%\\\\System32\\\\WindowsPowerShell\\\\v1.0\\\\;%SYSTEMROOT%\\\\System32\\\\OpenSSH\\\\;C:\\\\Users\\\\takas\\\\anaconda3;C:\\\\Users\\\\takas\\\\anaconda3\\\\Library\\\\mingw-w64\\\\bin;C:\\\\Users\\\\takas\\\\anaconda3\\\\Library\\\\usr\\\\bin;C:\\\\Users\\\\takas\\\\anaconda3\\\\Library\\\\bin;C:\\\\Users\\\\takas\\\\anaconda3\\\\Scripts;C:\\\\Users\\\\takas\\\\AppData\\\\Local\\\\Microsoft\\\\WindowsApps;C:\\\\Users\\\\takas\\\\AppData\\\\Local\\\\Programs\\\\Microsoft VS Code\\\\bin;'"
      ]
     },
     "execution_count": 85,
     "metadata": {},
     "output_type": "execute_result"
    }
   ],
   "source": [
    "os.environ['PATH']"
   ]
  },
  {
   "cell_type": "code",
   "execution_count": 87,
   "metadata": {},
   "outputs": [
    {
     "data": {
      "text/plain": [
       "1"
      ]
     },
     "execution_count": 87,
     "metadata": {},
     "output_type": "execute_result"
    }
   ],
   "source": [
    "os.system('ls -a')"
   ]
  },
  {
   "cell_type": "code",
   "execution_count": 89,
   "metadata": {},
   "outputs": [
    {
     "name": "stdout",
     "output_type": "stream",
     "text": [
      "\n"
     ]
    }
   ],
   "source": [
    "print(os.popen('ls -a').read())"
   ]
  },
  {
   "cell_type": "code",
   "execution_count": 90,
   "metadata": {},
   "outputs": [
    {
     "name": "stderr",
     "output_type": "stream",
     "text": [
      "'ls' は、内部コマンドまたは外部コマンド、\n",
      "操作可能なプログラムまたはバッチ ファイルとして認識されていません。\n"
     ]
    }
   ],
   "source": [
    "!ls -a"
   ]
  },
  {
   "cell_type": "code",
   "execution_count": 91,
   "metadata": {},
   "outputs": [],
   "source": [
    "import numpy as np"
   ]
  },
  {
   "cell_type": "code",
   "execution_count": 94,
   "metadata": {},
   "outputs": [],
   "source": [
    "a = np.array([1, 2, 3, 4])"
   ]
  },
  {
   "cell_type": "code",
   "execution_count": 95,
   "metadata": {},
   "outputs": [
    {
     "data": {
      "text/plain": [
       "array([1, 2, 3, 4])"
      ]
     },
     "execution_count": 95,
     "metadata": {},
     "output_type": "execute_result"
    }
   ],
   "source": [
    "a"
   ]
  },
  {
   "cell_type": "code",
   "execution_count": 96,
   "metadata": {},
   "outputs": [
    {
     "data": {
      "text/plain": [
       "(4,)"
      ]
     },
     "execution_count": 96,
     "metadata": {},
     "output_type": "execute_result"
    }
   ],
   "source": [
    "a.shape"
   ]
  },
  {
   "cell_type": "code",
   "execution_count": 98,
   "metadata": {},
   "outputs": [],
   "source": [
    "b = np.array([[1, 2], \n",
    "              [3, 4]])"
   ]
  },
  {
   "cell_type": "code",
   "execution_count": 99,
   "metadata": {},
   "outputs": [
    {
     "data": {
      "text/plain": [
       "(2, 2)"
      ]
     },
     "execution_count": 99,
     "metadata": {},
     "output_type": "execute_result"
    }
   ],
   "source": [
    "b.shape"
   ]
  },
  {
   "cell_type": "code",
   "execution_count": 101,
   "metadata": {},
   "outputs": [],
   "source": [
    "c = np.zeros(8)"
   ]
  },
  {
   "cell_type": "code",
   "execution_count": 102,
   "metadata": {},
   "outputs": [
    {
     "data": {
      "text/plain": [
       "(8,)"
      ]
     },
     "execution_count": 102,
     "metadata": {},
     "output_type": "execute_result"
    }
   ],
   "source": [
    "c.shape"
   ]
  },
  {
   "cell_type": "code",
   "execution_count": 106,
   "metadata": {},
   "outputs": [],
   "source": [
    "d = np.zeros((4,3))\n",
    "#引数の中にタプル()を入れることを忘れずに"
   ]
  },
  {
   "cell_type": "code",
   "execution_count": 107,
   "metadata": {},
   "outputs": [
    {
     "data": {
      "text/plain": [
       "array([[0., 0., 0.],\n",
       "       [0., 0., 0.],\n",
       "       [0., 0., 0.],\n",
       "       [0., 0., 0.]])"
      ]
     },
     "execution_count": 107,
     "metadata": {},
     "output_type": "execute_result"
    }
   ],
   "source": [
    "d"
   ]
  },
  {
   "cell_type": "code",
   "execution_count": 108,
   "metadata": {},
   "outputs": [
    {
     "data": {
      "text/plain": [
       "(4, 3)"
      ]
     },
     "execution_count": 108,
     "metadata": {},
     "output_type": "execute_result"
    }
   ],
   "source": [
    "d.shape"
   ]
  },
  {
   "cell_type": "code",
   "execution_count": 111,
   "metadata": {},
   "outputs": [
    {
     "data": {
      "text/plain": [
       "array([[1., 0., 0., 0., 0.],\n",
       "       [0., 1., 0., 0., 0.],\n",
       "       [0., 0., 1., 0., 0.],\n",
       "       [0., 0., 0., 1., 0.],\n",
       "       [0., 0., 0., 0., 1.]])"
      ]
     },
     "execution_count": 111,
     "metadata": {},
     "output_type": "execute_result"
    }
   ],
   "source": [
    "np.eye(5)"
   ]
  },
  {
   "cell_type": "code",
   "execution_count": null,
   "metadata": {},
   "outputs": [],
   "source": []
  }
 ],
 "metadata": {
  "kernelspec": {
   "display_name": "Python 3",
   "language": "python",
   "name": "python3"
  },
  "language_info": {
   "codemirror_mode": {
    "name": "ipython",
    "version": 3
   },
   "file_extension": ".py",
   "mimetype": "text/x-python",
   "name": "python",
   "nbconvert_exporter": "python",
   "pygments_lexer": "ipython3",
   "version": "3.7.6"
  }
 },
 "nbformat": 4,
 "nbformat_minor": 4
}
